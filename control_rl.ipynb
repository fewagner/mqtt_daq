{
 "cells": [
  {
   "cell_type": "code",
   "execution_count": 1,
   "id": "e8d38520-a6ad-40a5-9084-ebf5cdff1e9c",
   "metadata": {},
   "outputs": [],
   "source": [
    "from paho.mqtt import client as mqtt_client\n",
    "import numpy as np\n",
    "import time\n",
    "from datetime import datetime\n",
    "import matplotlib.pyplot as plt\n",
    "import pickle\n",
    "import os\n",
    "import json\n",
    "from utils import *\n",
    "\n",
    "import sys\n",
    "import time\n",
    "from IPython.display import display, clear_output\n",
    "import torch\n",
    "from envs import OptimizationEnv\n",
    "from sac import SoftActorCritic\n",
    "from rlutils import ReturnTracker, ReplayBuffer"
   ]
  },
  {
   "cell_type": "code",
   "execution_count": 2,
   "id": "416bcfa2-ab51-4190-96cf-aa73dc6ffd89",
   "metadata": {},
   "outputs": [],
   "source": [
    "broker = 'localhost'  # 'broker.hivemq.com'\n",
    "port = 1883\n",
    "client_id = 'control-secondary'\n",
    "username = 'fwagner'\n",
    "password = '1234'"
   ]
  },
  {
   "cell_type": "code",
   "execution_count": 3,
   "id": "76ce6549-eaf8-4dc4-a74b-bc09285f1e4e",
   "metadata": {},
   "outputs": [],
   "source": [
    "channel = 0\n",
    "buffer_size = 10000\n",
    "\n",
    "path_models = 'models/'\n",
    "path_buffer = 'data/'"
   ]
  },
  {
   "cell_type": "code",
   "execution_count": 4,
   "id": "02bedf19-f3a1-413e-92cc-6c97adb632fc",
   "metadata": {},
   "outputs": [],
   "source": [
    "def receive_and_respond(client, userdata, msg):\n",
    "    \n",
    "    try:\n",
    "        if 'acknowledge' in msg.topic:\n",
    "            data = json.loads(msg.payload)\n",
    "            userdata['action'] = np.array([data[\"Action 0\"], data[\"Action 1\"]])\n",
    "            print('acknowledge received and action set to {}'.format(userdata['action']))\n",
    "            \n",
    "        elif 'events' in msg.topic:\n",
    "            clear_output(wait=True)\n",
    "\n",
    "            # get data\n",
    "            data = json.loads(msg.payload)\n",
    "            print('message received: ', data)\n",
    "\n",
    "            # calc state, reward\n",
    "            new_state = np.array([data[\"new_state 0\"], data[\"new_state 1\"]])\n",
    "            reward = float(data[\"reward\"])\n",
    "            terminated = data[\"terminated\"]\n",
    "            truncated = data[\"truncated\"]\n",
    "\n",
    "            # write to buffer\n",
    "            if not userdata['greedy']:\n",
    "                userdata['buffer'].store_transition(state = userdata['state'], \n",
    "                                              action = userdata['action'],  # should we give new state here?\n",
    "                                              reward = reward, \n",
    "                                              next_state = new_state, \n",
    "                                              terminal = terminated)\n",
    "                print('buffer total: ', userdata['buffer'].buffer_total)\n",
    "\n",
    "            # update state\n",
    "            userdata['state'] = new_state\n",
    "\n",
    "            # get new action\n",
    "            if buffer.buffer_total > userdata['learning_starts']:\n",
    "                userdata['agent'] = SoftActorCritic.load(userdata['env'], userdata['path_models'])\n",
    "                action, _ = userdata['agent'].predict(state, greedy=userdata['greedy'])\n",
    "                greedy_action, greedy_likelihood = userdata['agent'].predict(state, greedy=True)\n",
    "                print('greedy action is: {}, with likelihood: {}'.format(greedy_action, np.exp(greedy_likelihood)))\n",
    "            else:\n",
    "                action = env.action_space.sample().reshape(1,-1)\n",
    "                print('Taking random action.')\n",
    "\n",
    "            # respond\n",
    "            payload_response = {\n",
    "                \"Action 0\": float(action[0,0]),\n",
    "                \"Action 1\": float(action[0,1]),\n",
    "            }\n",
    "\n",
    "            # plot \n",
    "            print('message with greedy={} respond: {}'.format(userdata['greedy'], payload_response))\n",
    "\n",
    "            result = client.publish('control/channel_{}/set_control'.format(channel), json.dumps(payload_response))\n",
    "            check(result)\n",
    "            \n",
    "        else:\n",
    "            print('Message topic unknown: ', msg.topic)\n",
    "        \n",
    "    except KeyError as err_msg:\n",
    "        print('KeyError: ', err_msg)\n",
    "        pass"
   ]
  },
  {
   "cell_type": "code",
   "execution_count": 5,
   "id": "50e9a906-c18b-48a9-b7cd-e2caafd04a07",
   "metadata": {},
   "outputs": [
    {
     "name": "stderr",
     "output_type": "stream",
     "text": [
      "/Users/felix/.pyenv/versions/3.8.6/lib/python3.8/site-packages/gym/spaces/box.py:127: UserWarning: \u001b[33mWARN: Box bound precision lowered by casting to float32\u001b[0m\n",
      "  logger.warn(f\"Box bound precision lowered by casting to {self.dtype}\")\n"
     ]
    }
   ],
   "source": [
    "env = OptimizationEnv(reset_params=False)\n",
    "state, info = env.reset(new_params=False)\n",
    "action = env.action_space.sample()"
   ]
  },
  {
   "cell_type": "code",
   "execution_count": 6,
   "id": "15563e7c-3842-4ba2-8877-056e48c4c9f8",
   "metadata": {},
   "outputs": [],
   "source": [
    "buffer = ReplayBuffer(buffer_size=buffer_size, input_shape=(env.observation_space.shape[0],), n_actions=env.action_space.shape[0], memmap_loc=path_buffer)"
   ]
  },
  {
   "cell_type": "code",
   "execution_count": 7,
   "id": "87c12249-3ffd-4d45-b14b-6ad4643700e9",
   "metadata": {},
   "outputs": [],
   "source": [
    "agent = SoftActorCritic.load(env, path_models)"
   ]
  },
  {
   "cell_type": "code",
   "execution_count": 8,
   "id": "259d6f4d-c4f1-42ac-9c22-9a20da914eb3",
   "metadata": {},
   "outputs": [],
   "source": [
    "buffer.erase()"
   ]
  },
  {
   "cell_type": "code",
   "execution_count": 8,
   "id": "80dd3346-4e66-481b-9906-d81441daeea6",
   "metadata": {},
   "outputs": [],
   "source": [
    "userdata = {'agent': agent,\n",
    "            'env': env,\n",
    "            'state': state,\n",
    "            'action': action,\n",
    "            'buffer': buffer,\n",
    "            'learning_starts': 64, \n",
    "            'path_models': path_models,\n",
    "            'greedy': False,\n",
    "           }\n",
    "\n",
    "client = connect_mqtt(broker, port, client_id, username, password, userdata = userdata)"
   ]
  },
  {
   "cell_type": "code",
   "execution_count": 9,
   "id": "6a6b3871-d770-4a01-af4e-4b0ddddd89c2",
   "metadata": {},
   "outputs": [],
   "source": [
    "subscribe(client, 'daq/channel_{}/events'.format(channel))\n",
    "subscribe(client, 'daq/channel_{}/acknowledge'.format(channel))"
   ]
  },
  {
   "cell_type": "code",
   "execution_count": 10,
   "id": "2d48a0ef-7095-4328-bdd9-ae6898625d0c",
   "metadata": {},
   "outputs": [],
   "source": [
    "client.on_message = receive_and_respond"
   ]
  },
  {
   "cell_type": "code",
   "execution_count": 11,
   "id": "18a28a79-721b-4e7c-88a9-e219ac421069",
   "metadata": {},
   "outputs": [],
   "source": [
    "channel_info = {\"SubscribeToChannel\": channel}\n",
    "result = client.publish('control/metainfo', json.dumps(channel_info))\n",
    "check(result)"
   ]
  },
  {
   "cell_type": "code",
   "execution_count": 12,
   "id": "c7748dde-3cf0-4939-9cee-af8510535ce9",
   "metadata": {},
   "outputs": [],
   "source": [
    "userdata['greedy'] = True"
   ]
  },
  {
   "cell_type": "code",
   "execution_count": 13,
   "id": "1cb8f4e9-5950-4c33-92b7-138bc14eea72",
   "metadata": {},
   "outputs": [
    {
     "name": "stdout",
     "output_type": "stream",
     "text": [
      "message received:  {'new_state 0': 0.7635462284088135, 'new_state 1': -0.9469873905181885, 'reward': 0.0010628321421555207, 'terminated': False, 'truncated': False}\n",
      "greedy action is: [[ 0.7635462 -0.9469874]], with likelihood: [[26.070961]]\n",
      "message with greedy=True respond: {'Action 0': 0.7635462284088135, 'Action 1': -0.9469873905181885}\n",
      "acknowledge received and action set to [ 0.76354623 -0.94698739]\n"
     ]
    },
    {
     "ename": "KeyboardInterrupt",
     "evalue": "",
     "output_type": "error",
     "traceback": [
      "\u001b[0;31m---------------------------------------------------------------------------\u001b[0m",
      "\u001b[0;31mKeyboardInterrupt\u001b[0m                         Traceback (most recent call last)",
      "\u001b[0;32m<ipython-input-13-331526b62073>\u001b[0m in \u001b[0;36m<module>\u001b[0;34m\u001b[0m\n\u001b[0;32m----> 1\u001b[0;31m \u001b[0mclient\u001b[0m\u001b[0;34m.\u001b[0m\u001b[0mloop_forever\u001b[0m\u001b[0;34m(\u001b[0m\u001b[0;34m)\u001b[0m\u001b[0;34m\u001b[0m\u001b[0;34m\u001b[0m\u001b[0m\n\u001b[0m",
      "\u001b[0;32m~/.pyenv/versions/3.8.6/lib/python3.8/site-packages/paho/mqtt/client.py\u001b[0m in \u001b[0;36mloop_forever\u001b[0;34m(self, timeout, max_packets, retry_first_connection)\u001b[0m\n\u001b[1;32m   1754\u001b[0m             \u001b[0mrc\u001b[0m \u001b[0;34m=\u001b[0m \u001b[0mMQTT_ERR_SUCCESS\u001b[0m\u001b[0;34m\u001b[0m\u001b[0;34m\u001b[0m\u001b[0m\n\u001b[1;32m   1755\u001b[0m             \u001b[0;32mwhile\u001b[0m \u001b[0mrc\u001b[0m \u001b[0;34m==\u001b[0m \u001b[0mMQTT_ERR_SUCCESS\u001b[0m\u001b[0;34m:\u001b[0m\u001b[0;34m\u001b[0m\u001b[0;34m\u001b[0m\u001b[0m\n\u001b[0;32m-> 1756\u001b[0;31m                 \u001b[0mrc\u001b[0m \u001b[0;34m=\u001b[0m \u001b[0mself\u001b[0m\u001b[0;34m.\u001b[0m\u001b[0m_loop\u001b[0m\u001b[0;34m(\u001b[0m\u001b[0mtimeout\u001b[0m\u001b[0;34m)\u001b[0m\u001b[0;34m\u001b[0m\u001b[0;34m\u001b[0m\u001b[0m\n\u001b[0m\u001b[1;32m   1757\u001b[0m                 \u001b[0;31m# We don't need to worry about locking here, because we've\u001b[0m\u001b[0;34m\u001b[0m\u001b[0;34m\u001b[0m\u001b[0;34m\u001b[0m\u001b[0m\n\u001b[1;32m   1758\u001b[0m                 \u001b[0;31m# either called loop_forever() when in single threaded mode, or\u001b[0m\u001b[0;34m\u001b[0m\u001b[0;34m\u001b[0m\u001b[0;34m\u001b[0m\u001b[0m\n",
      "\u001b[0;32m~/.pyenv/versions/3.8.6/lib/python3.8/site-packages/paho/mqtt/client.py\u001b[0m in \u001b[0;36m_loop\u001b[0;34m(self, timeout)\u001b[0m\n\u001b[1;32m   1148\u001b[0m \u001b[0;34m\u001b[0m\u001b[0m\n\u001b[1;32m   1149\u001b[0m         \u001b[0;32mtry\u001b[0m\u001b[0;34m:\u001b[0m\u001b[0;34m\u001b[0m\u001b[0;34m\u001b[0m\u001b[0m\n\u001b[0;32m-> 1150\u001b[0;31m             \u001b[0msocklist\u001b[0m \u001b[0;34m=\u001b[0m \u001b[0mselect\u001b[0m\u001b[0;34m.\u001b[0m\u001b[0mselect\u001b[0m\u001b[0;34m(\u001b[0m\u001b[0mrlist\u001b[0m\u001b[0;34m,\u001b[0m \u001b[0mwlist\u001b[0m\u001b[0;34m,\u001b[0m \u001b[0;34m[\u001b[0m\u001b[0;34m]\u001b[0m\u001b[0;34m,\u001b[0m \u001b[0mtimeout\u001b[0m\u001b[0;34m)\u001b[0m\u001b[0;34m\u001b[0m\u001b[0;34m\u001b[0m\u001b[0m\n\u001b[0m\u001b[1;32m   1151\u001b[0m         \u001b[0;32mexcept\u001b[0m \u001b[0mTypeError\u001b[0m\u001b[0;34m:\u001b[0m\u001b[0;34m\u001b[0m\u001b[0;34m\u001b[0m\u001b[0m\n\u001b[1;32m   1152\u001b[0m             \u001b[0;31m# Socket isn't correct type, in likelihood connection is lost\u001b[0m\u001b[0;34m\u001b[0m\u001b[0;34m\u001b[0m\u001b[0;34m\u001b[0m\u001b[0m\n",
      "\u001b[0;31mKeyboardInterrupt\u001b[0m: "
     ]
    }
   ],
   "source": [
    "client.loop_forever()"
   ]
  },
  {
   "cell_type": "code",
   "execution_count": 14,
   "id": "51b69c55-0eb3-4fb9-8592-7a81f33d1647",
   "metadata": {
    "tags": []
   },
   "outputs": [
    {
     "name": "stdout",
     "output_type": "stream",
     "text": [
      "torch.Size([256, 2])\n",
      "-0.0024986122734844685\n",
      "torch.Size([256])\n",
      "-0.04798027500510216\n",
      "torch.Size([256, 256])\n",
      "-5.377599444878717e-38\n",
      "torch.Size([256])\n",
      "-0.005090019199997187\n",
      "torch.Size([2, 256])\n",
      "-0.019565533846616745\n",
      "torch.Size([2])\n",
      "0.563148021697998\n",
      "torch.Size([2, 256])\n",
      "0.04247375577688217\n",
      "torch.Size([2])\n",
      "-0.5413356423377991\n"
     ]
    }
   ],
   "source": [
    "for p in userdata['agent'].policy.parameters():\n",
    "    print(p.shape)\n",
    "    if len(p.shape) == 0:\n",
    "        print(p.item())\n",
    "    elif len(p.shape) == 1:\n",
    "        print(p[0].item())\n",
    "    elif len(p.shape) == 2:\n",
    "        print(p[0,0].item())"
   ]
  },
  {
   "cell_type": "code",
   "execution_count": null,
   "id": "0b944ae3-5098-42df-8ea6-7d9a1d2c8488",
   "metadata": {},
   "outputs": [],
   "source": []
  }
 ],
 "metadata": {
  "kernelspec": {
   "display_name": "Python 3",
   "language": "python",
   "name": "python3"
  },
  "language_info": {
   "codemirror_mode": {
    "name": "ipython",
    "version": 3
   },
   "file_extension": ".py",
   "mimetype": "text/x-python",
   "name": "python",
   "nbconvert_exporter": "python",
   "pygments_lexer": "ipython3",
   "version": "3.8.6"
  }
 },
 "nbformat": 4,
 "nbformat_minor": 5
}
