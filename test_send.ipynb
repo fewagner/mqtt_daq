{
 "cells": [
  {
   "cell_type": "code",
   "execution_count": 1,
   "id": "905d8d51-fb19-4741-b52a-6a54dc018208",
   "metadata": {},
   "outputs": [],
   "source": [
    "from paho.mqtt import client as mqtt_client\n",
    "import numpy as np\n",
    "import time\n",
    "from datetime import datetime\n",
    "import matplotlib.pyplot as plt\n",
    "import pickle\n",
    "import os\n",
    "import json\n",
    "from utils import *"
   ]
  },
  {
   "cell_type": "code",
   "execution_count": 2,
   "id": "47a95504-78a9-4c66-ae46-6a07abfdbbf3",
   "metadata": {},
   "outputs": [],
   "source": [
    "broker = 'localhost'\n",
    "port = 1883\n",
    "client_id = 'test-primary'\n",
    "username = 'fwagner'\n",
    "password = '1234'"
   ]
  },
  {
   "cell_type": "code",
   "execution_count": 3,
   "id": "68c54c5c-b9d8-438a-bc1c-67f2bbd4bfa6",
   "metadata": {},
   "outputs": [],
   "source": [
    "client_sender = connect_mqtt(broker, port, client_id, username, password)"
   ]
  },
  {
   "cell_type": "code",
   "execution_count": 4,
   "id": "90edae30-374c-49eb-a28e-a8e77126a9f4",
   "metadata": {},
   "outputs": [],
   "source": [
    "test_msg = {'hello': 'world'}\n",
    "# test_msg = 'hello world'"
   ]
  },
  {
   "cell_type": "code",
   "execution_count": null,
   "id": "fd6ef5d6-9008-4518-9e47-fd2a655a232a",
   "metadata": {},
   "outputs": [],
   "source": [
    "while True:\n",
    "    result = client_sender.publish('ccs/test', json.dumps(test_msg))\n",
    "    check(result)\n",
    "    time.sleep(5)"
   ]
  },
  {
   "cell_type": "code",
   "execution_count": null,
   "id": "2f6c0727-78ea-421b-8692-975774ab6429",
   "metadata": {},
   "outputs": [],
   "source": []
  }
 ],
 "metadata": {
  "kernelspec": {
   "display_name": "Python 3",
   "language": "python",
   "name": "python3"
  },
  "language_info": {
   "codemirror_mode": {
    "name": "ipython",
    "version": 3
   },
   "file_extension": ".py",
   "mimetype": "text/x-python",
   "name": "python",
   "nbconvert_exporter": "python",
   "pygments_lexer": "ipython3",
   "version": "3.8.6"
  }
 },
 "nbformat": 4,
 "nbformat_minor": 5
}
