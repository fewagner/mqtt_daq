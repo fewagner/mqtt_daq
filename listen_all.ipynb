{
 "cells": [
  {
   "cell_type": "code",
   "execution_count": 1,
   "id": "ef9338ea-3973-4630-aaa3-87537e3e0585",
   "metadata": {},
   "outputs": [],
   "source": [
    "from paho.mqtt import client as mqtt_client\n",
    "import numpy as np\n",
    "import time\n",
    "from datetime import datetime\n",
    "import matplotlib.pyplot as plt\n",
    "import pickle\n",
    "import os\n",
    "import json\n",
    "from utils import *\n",
    "\n",
    "import sys\n",
    "import time\n",
    "from IPython.display import display, clear_output\n",
    "import torch\n",
    "from envs import OptimizationEnv\n",
    "from sac import SoftActorCritic\n",
    "from rlutils import ReturnTracker, ReplayBuffer"
   ]
  },
  {
   "cell_type": "code",
   "execution_count": 5,
   "id": "87c43b23-1b31-44f7-903a-896fbf339a6e",
   "metadata": {},
   "outputs": [],
   "source": [
    "broker = 'localhost'\n",
    "port = 10401 # 1883\n",
    "client_id = 'clip_listener-secondary'\n",
    "username = 'fwagner'\n",
    "password = '1234'"
   ]
  },
  {
   "cell_type": "code",
   "execution_count": 6,
   "id": "fd316a0d-4bca-47ed-9e0b-b17f18a74ed3",
   "metadata": {},
   "outputs": [],
   "source": [
    "def receive_and_print(client, userdata, msg):\n",
    "    \n",
    "    try:\n",
    "        print(time.time(), msg.topic)\n",
    "        data = json.loads(msg.payload)\n",
    "        for k,v in zip(data.keys(), data.values()):\n",
    "            if k == 'Samples':\n",
    "                pass\n",
    "            else:\n",
    "                print(k, v)\n",
    "        if 'TPA' in data and 'RMS' in data and 'PulseHeight' in data:\n",
    "            print('Reward: ', - data['RMS'] * np.minimum(data['TPA'], 10.) / np.maximum(data['PulseHeight'], data['RMS']) )\n",
    "        if 'Samples' in data:\n",
    "            plt.subplot(1,2,1)\n",
    "            plt.plot(np.array(data['Samples'])/65536*10)\n",
    "            plt.subplot(1,2,2)\n",
    "            fft = np.abs(np.fft.rfft(np.array(data['Samples'])/65536*10))**2\n",
    "            freq = np.fft.rfftfreq(16384, 1/25000)\n",
    "            plt.loglog(freq, fft)\n",
    "            plt.show()\n",
    "            \n",
    "\n",
    "    except KeyError as err_msg:\n",
    "        print('KeyError: ', err_msg)\n",
    "        pass"
   ]
  },
  {
   "cell_type": "code",
   "execution_count": 7,
   "id": "098d9fc8-fbc4-4a17-9442-6deec1237dd6",
   "metadata": {},
   "outputs": [
    {
     "ename": "ConnectionRefusedError",
     "evalue": "[Errno 111] Connection refused",
     "output_type": "error",
     "traceback": [
      "\u001b[0;31m---------------------------------------------------------------------------\u001b[0m",
      "\u001b[0;31mConnectionRefusedError\u001b[0m                    Traceback (most recent call last)",
      "Input \u001b[0;32mIn [7]\u001b[0m, in \u001b[0;36m<cell line: 1>\u001b[0;34m()\u001b[0m\n\u001b[0;32m----> 1\u001b[0m client \u001b[38;5;241m=\u001b[39m \u001b[43mconnect_mqtt\u001b[49m\u001b[43m(\u001b[49m\u001b[43mbroker\u001b[49m\u001b[43m,\u001b[49m\u001b[43m \u001b[49m\u001b[43mport\u001b[49m\u001b[43m,\u001b[49m\u001b[43m \u001b[49m\u001b[43mclient_id\u001b[49m\u001b[43m,\u001b[49m\u001b[43m \u001b[49m\u001b[43musername\u001b[49m\u001b[43m,\u001b[49m\u001b[43m \u001b[49m\u001b[43mpassword\u001b[49m\u001b[43m,\u001b[49m\u001b[43m \u001b[49m\u001b[43muserdata\u001b[49m\u001b[38;5;241;43m=\u001b[39;49m\u001b[43m{\u001b[49m\u001b[43m}\u001b[49m\u001b[43m)\u001b[49m\n",
      "File \u001b[0;32m~/mqtt_daq/utils.py:17\u001b[0m, in \u001b[0;36mconnect_mqtt\u001b[0;34m(broker, port, client_id, username, password, userdata)\u001b[0m\n\u001b[1;32m     15\u001b[0m client\u001b[38;5;241m.\u001b[39musername_pw_set(username, password)\n\u001b[1;32m     16\u001b[0m client\u001b[38;5;241m.\u001b[39mon_connect \u001b[38;5;241m=\u001b[39m on_connect\n\u001b[0;32m---> 17\u001b[0m \u001b[43mclient\u001b[49m\u001b[38;5;241;43m.\u001b[39;49m\u001b[43mconnect\u001b[49m\u001b[43m(\u001b[49m\u001b[43mbroker\u001b[49m\u001b[43m,\u001b[49m\u001b[43m \u001b[49m\u001b[43mport\u001b[49m\u001b[43m)\u001b[49m\n\u001b[1;32m     18\u001b[0m \u001b[38;5;28;01mreturn\u001b[39;00m client\n",
      "File \u001b[0;32m~/.local/lib/python3.9/site-packages/paho/mqtt/client.py:914\u001b[0m, in \u001b[0;36mClient.connect\u001b[0;34m(self, host, port, keepalive, bind_address, bind_port, clean_start, properties)\u001b[0m\n\u001b[1;32m    910\u001b[0m         \u001b[38;5;28;01mraise\u001b[39;00m \u001b[38;5;167;01mValueError\u001b[39;00m(\u001b[38;5;124m\"\u001b[39m\u001b[38;5;124mProperties only apply to MQTT V5\u001b[39m\u001b[38;5;124m\"\u001b[39m)\n\u001b[1;32m    912\u001b[0m \u001b[38;5;28mself\u001b[39m\u001b[38;5;241m.\u001b[39mconnect_async(host, port, keepalive,\n\u001b[1;32m    913\u001b[0m                    bind_address, bind_port, clean_start, properties)\n\u001b[0;32m--> 914\u001b[0m \u001b[38;5;28;01mreturn\u001b[39;00m \u001b[38;5;28;43mself\u001b[39;49m\u001b[38;5;241;43m.\u001b[39;49m\u001b[43mreconnect\u001b[49m\u001b[43m(\u001b[49m\u001b[43m)\u001b[49m\n",
      "File \u001b[0;32m~/.local/lib/python3.9/site-packages/paho/mqtt/client.py:1044\u001b[0m, in \u001b[0;36mClient.reconnect\u001b[0;34m(self)\u001b[0m\n\u001b[1;32m   1041\u001b[0m \u001b[38;5;66;03m# Put messages in progress in a valid state.\u001b[39;00m\n\u001b[1;32m   1042\u001b[0m \u001b[38;5;28mself\u001b[39m\u001b[38;5;241m.\u001b[39m_messages_reconnect_reset()\n\u001b[0;32m-> 1044\u001b[0m sock \u001b[38;5;241m=\u001b[39m \u001b[38;5;28;43mself\u001b[39;49m\u001b[38;5;241;43m.\u001b[39;49m\u001b[43m_create_socket_connection\u001b[49m\u001b[43m(\u001b[49m\u001b[43m)\u001b[49m\n\u001b[1;32m   1046\u001b[0m \u001b[38;5;28;01mif\u001b[39;00m \u001b[38;5;28mself\u001b[39m\u001b[38;5;241m.\u001b[39m_ssl:\n\u001b[1;32m   1047\u001b[0m     \u001b[38;5;66;03m# SSL is only supported when SSLContext is available (implies Python >= 2.7.9 or >= 3.2)\u001b[39;00m\n\u001b[1;32m   1049\u001b[0m     verify_host \u001b[38;5;241m=\u001b[39m \u001b[38;5;129;01mnot\u001b[39;00m \u001b[38;5;28mself\u001b[39m\u001b[38;5;241m.\u001b[39m_tls_insecure\n",
      "File \u001b[0;32m~/.local/lib/python3.9/site-packages/paho/mqtt/client.py:3685\u001b[0m, in \u001b[0;36mClient._create_socket_connection\u001b[0;34m(self)\u001b[0m\n\u001b[1;32m   3683\u001b[0m     \u001b[38;5;28;01mreturn\u001b[39;00m socks\u001b[38;5;241m.\u001b[39mcreate_connection(addr, timeout\u001b[38;5;241m=\u001b[39m\u001b[38;5;28mself\u001b[39m\u001b[38;5;241m.\u001b[39m_connect_timeout, source_address\u001b[38;5;241m=\u001b[39msource, \u001b[38;5;241m*\u001b[39m\u001b[38;5;241m*\u001b[39mproxy)\n\u001b[1;32m   3684\u001b[0m \u001b[38;5;28;01melse\u001b[39;00m:\n\u001b[0;32m-> 3685\u001b[0m     \u001b[38;5;28;01mreturn\u001b[39;00m \u001b[43msocket\u001b[49m\u001b[38;5;241;43m.\u001b[39;49m\u001b[43mcreate_connection\u001b[49m\u001b[43m(\u001b[49m\u001b[43maddr\u001b[49m\u001b[43m,\u001b[49m\u001b[43m \u001b[49m\u001b[43mtimeout\u001b[49m\u001b[38;5;241;43m=\u001b[39;49m\u001b[38;5;28;43mself\u001b[39;49m\u001b[38;5;241;43m.\u001b[39;49m\u001b[43m_connect_timeout\u001b[49m\u001b[43m,\u001b[49m\u001b[43m \u001b[49m\u001b[43msource_address\u001b[49m\u001b[38;5;241;43m=\u001b[39;49m\u001b[43msource\u001b[49m\u001b[43m)\u001b[49m\n",
      "File \u001b[0;32m/srv/conda/envs/notebook/lib/python3.9/socket.py:844\u001b[0m, in \u001b[0;36mcreate_connection\u001b[0;34m(address, timeout, source_address)\u001b[0m\n\u001b[1;32m    842\u001b[0m \u001b[38;5;28;01mif\u001b[39;00m err \u001b[38;5;129;01mis\u001b[39;00m \u001b[38;5;129;01mnot\u001b[39;00m \u001b[38;5;28;01mNone\u001b[39;00m:\n\u001b[1;32m    843\u001b[0m     \u001b[38;5;28;01mtry\u001b[39;00m:\n\u001b[0;32m--> 844\u001b[0m         \u001b[38;5;28;01mraise\u001b[39;00m err\n\u001b[1;32m    845\u001b[0m     \u001b[38;5;28;01mfinally\u001b[39;00m:\n\u001b[1;32m    846\u001b[0m         \u001b[38;5;66;03m# Break explicitly a reference cycle\u001b[39;00m\n\u001b[1;32m    847\u001b[0m         err \u001b[38;5;241m=\u001b[39m \u001b[38;5;28;01mNone\u001b[39;00m\n",
      "File \u001b[0;32m/srv/conda/envs/notebook/lib/python3.9/socket.py:832\u001b[0m, in \u001b[0;36mcreate_connection\u001b[0;34m(address, timeout, source_address)\u001b[0m\n\u001b[1;32m    830\u001b[0m \u001b[38;5;28;01mif\u001b[39;00m source_address:\n\u001b[1;32m    831\u001b[0m     sock\u001b[38;5;241m.\u001b[39mbind(source_address)\n\u001b[0;32m--> 832\u001b[0m \u001b[43msock\u001b[49m\u001b[38;5;241;43m.\u001b[39;49m\u001b[43mconnect\u001b[49m\u001b[43m(\u001b[49m\u001b[43msa\u001b[49m\u001b[43m)\u001b[49m\n\u001b[1;32m    833\u001b[0m \u001b[38;5;66;03m# Break explicitly a reference cycle\u001b[39;00m\n\u001b[1;32m    834\u001b[0m err \u001b[38;5;241m=\u001b[39m \u001b[38;5;28;01mNone\u001b[39;00m\n",
      "\u001b[0;31mConnectionRefusedError\u001b[0m: [Errno 111] Connection refused"
     ]
    }
   ],
   "source": [
    "client = connect_mqtt(broker, port, client_id, username, password, userdata={})"
   ]
  },
  {
   "cell_type": "code",
   "execution_count": null,
   "id": "1ae059d3-de8d-4989-bffa-e8d9019e3518",
   "metadata": {},
   "outputs": [],
   "source": [
    "subscribe(client, 'ccscresst/subscription/set')\n",
    "subscribe(client, 'ccscresst/subscription/ack')\n",
    "subscribe(client, 'ccscresst/trigger/samples')\n",
    "subscribe(client, 'ccscresst/control/set')\n",
    "subscribe(client, 'ccscresst/control/ack')"
   ]
  },
  {
   "cell_type": "code",
   "execution_count": null,
   "id": "a8287768-dbc9-4e81-935f-a35ed24d3044",
   "metadata": {},
   "outputs": [],
   "source": [
    "client.on_message = receive_and_print"
   ]
  },
  {
   "cell_type": "code",
   "execution_count": 7,
   "id": "905c9043-cbf5-4799-9a39-2cbf7e490aed",
   "metadata": {},
   "outputs": [],
   "source": [
    "# payload = {\n",
    "#     \"ChannelID\": 1,\n",
    "#     \"DAC\": 1.6,  # normed to [-1,1]\n",
    "#     \"BiasCurrent\": 2.4,  # normed to [-1,1]\n",
    "# }\n",
    "\n",
    "# result = client.publish('ccscresst/control/set', json.dumps(payload))\n",
    "# check(result)"
   ]
  },
  {
   "cell_type": "code",
   "execution_count": 8,
   "id": "643bb5e3-59c6-406e-a022-da96371857b1",
   "metadata": {},
   "outputs": [],
   "source": [
    "# channel_info = {\"SubscribeToChannel\": [6]}\n",
    "# result = client.publish('ccscresst/subscription/set', json.dumps(channel_info))\n",
    "# check(result)"
   ]
  },
  {
   "cell_type": "code",
   "execution_count": null,
   "id": "ec614864-d0ee-40b8-bb2a-266d9c10508f",
   "metadata": {},
   "outputs": [],
   "source": [
    "client.loop_forever()"
   ]
  },
  {
   "cell_type": "code",
   "execution_count": null,
   "id": "245e5ebe-e9ee-4589-9223-b4481bcac98c",
   "metadata": {},
   "outputs": [],
   "source": []
  }
 ],
 "metadata": {
  "kernelspec": {
   "display_name": "Python 3",
   "language": "python",
   "name": "python3"
  },
  "language_info": {
   "codemirror_mode": {
    "name": "ipython",
    "version": 3
   },
   "file_extension": ".py",
   "mimetype": "text/x-python",
   "name": "python",
   "nbconvert_exporter": "python",
   "pygments_lexer": "ipython3",
   "version": "3.9.12"
  }
 },
 "nbformat": 4,
 "nbformat_minor": 5
}
