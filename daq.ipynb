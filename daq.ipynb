{
 "cells": [
  {
   "cell_type": "code",
   "execution_count": 1,
   "id": "a02e6ab3-5beb-4588-af40-1c15632c0ef3",
   "metadata": {},
   "outputs": [],
   "source": [
    "from paho.mqtt import client as mqtt_client\n",
    "import numpy as np\n",
    "import time\n",
    "import matplotlib.pyplot as plt\n",
    "import json\n",
    "from utils import *"
   ]
  },
  {
   "cell_type": "code",
   "execution_count": 2,
   "id": "991844ac-1442-4b60-b574-7cc2705c482b",
   "metadata": {},
   "outputs": [],
   "source": [
    "broker = 'broker.hivemq.com'\n",
    "port = 1883\n",
    "client_id = 'daq-primary'\n",
    "username = 'fwagner'\n",
    "password = '1234'"
   ]
  },
  {
   "cell_type": "code",
   "execution_count": 3,
   "id": "7668f0af-55fd-457b-a47b-07693e890952",
   "metadata": {},
   "outputs": [],
   "source": [
    "# daq control parameters\n",
    "\n",
    "tpa = 1\n",
    "\n",
    "nmbr_channels = 2\n",
    "tpa_queue = list(range(10))\n",
    "dac = np.random.uniform(-1, 1, size=nmbr_channels)\n",
    "bias_current = np.random.uniform(-1, 1, size=nmbr_channels)"
   ]
  },
  {
   "cell_type": "code",
   "execution_count": 4,
   "id": "d917266e-9f6b-4a7e-8df5-02dd2c559cd6",
   "metadata": {},
   "outputs": [],
   "source": [
    "client = connect_mqtt(broker, port, client_id, username, password)"
   ]
  },
  {
   "cell_type": "code",
   "execution_count": 5,
   "id": "4a8c087b-14f3-4d5a-b6e2-fa061c4584d7",
   "metadata": {},
   "outputs": [],
   "source": [
    "for i in range(nmbr_channels):\n",
    "    subscribe(client, 'control/{}/set_control'.format(i))"
   ]
  },
  {
   "cell_type": "code",
   "execution_count": 6,
   "id": "cf4ebe84-9168-44df-99ec-154dc2aee24c",
   "metadata": {},
   "outputs": [],
   "source": [
    "def receive_and_set(client, userdata, msg):\n",
    "    \n",
    "    try:\n",
    "        channel = int(msg.topic.split('/')[1])\n",
    "        \n",
    "        data = json.loads(msg.payload)\n",
    "        \n",
    "        dac[channel] = data[\"DAC\"]\n",
    "        bias_current[channel] = data[\"BiasCurrent\"]\n",
    "    \n",
    "    except KeyError as err_msg:\n",
    "        print('KeyError: ', err_msg)\n",
    "        pass"
   ]
  },
  {
   "cell_type": "code",
   "execution_count": 7,
   "id": "fd260d14-5fd1-410b-a2e4-ec0814747762",
   "metadata": {},
   "outputs": [],
   "source": [
    "client.on_message = receive_and_set"
   ]
  },
  {
   "cell_type": "code",
   "execution_count": 8,
   "id": "f9fa9d2c-1d07-4528-9cd4-b4909dbda5f6",
   "metadata": {},
   "outputs": [
    {
     "name": "stdout",
     "output_type": "stream",
     "text": [
      "Connected to MQTT Broker!\n"
     ]
    },
    {
     "ename": "KeyboardInterrupt",
     "evalue": "",
     "output_type": "error",
     "traceback": [
      "\u001b[0;31m---------------------------------------------------------------------------\u001b[0m",
      "\u001b[0;31mKeyboardInterrupt\u001b[0m                         Traceback (most recent call last)",
      "\u001b[0;32m<ipython-input-8-10f98b96fdab>\u001b[0m in \u001b[0;36m<module>\u001b[0;34m\u001b[0m\n\u001b[1;32m     38\u001b[0m \u001b[0;34m\u001b[0m\u001b[0m\n\u001b[1;32m     39\u001b[0m         \u001b[0mclient\u001b[0m\u001b[0;34m.\u001b[0m\u001b[0mloop\u001b[0m\u001b[0;34m(\u001b[0m\u001b[0;36m1\u001b[0m\u001b[0;34m)\u001b[0m\u001b[0;34m\u001b[0m\u001b[0;34m\u001b[0m\u001b[0m\n\u001b[0;32m---> 40\u001b[0;31m     \u001b[0mtime\u001b[0m\u001b[0;34m.\u001b[0m\u001b[0msleep\u001b[0m\u001b[0;34m(\u001b[0m\u001b[0;36m2\u001b[0m\u001b[0;34m)\u001b[0m\u001b[0;34m\u001b[0m\u001b[0;34m\u001b[0m\u001b[0m\n\u001b[0m",
      "\u001b[0;31mKeyboardInterrupt\u001b[0m: "
     ]
    }
   ],
   "source": [
    "# do some measurement\n",
    "\n",
    "counter = 0\n",
    "\n",
    "while True:\n",
    "    for n in range(nmbr_channels):\n",
    "        \n",
    "        tpa = tpa_queue[counter]\n",
    "        \n",
    "        meas = np.random.normal(size=100, scale=.05)\n",
    "        meas[25:50] += dac[n]*tpa*np.exp(-np.arange(25)/5)\n",
    "        meas *= bias_current[n]\n",
    "        \n",
    "        payload = {\n",
    "            \"ChannelId\": 3,\n",
    "            \"InjectedPulse\": {\n",
    "                \"TPA\": tpa,\n",
    "                \"nsTs\": 4799090005531000,\n",
    "                \"nsTsUTC\": 140196121154224\n",
    "            },\n",
    "            \"LBaseline\": 0.18045235450579847,  # TODO, optional\n",
    "            \"PulseHeight\": 0.03339375199042272,  # TODO, optional\n",
    "            \"RMS\": 0.03339375199042272,  # TODO, optional\n",
    "            \"DAC\": dac[n], \n",
    "            \"BiasCurrent\": bias_current[n],\n",
    "            \"nsTsTrigger\": 4799090007210000, # TODO\n",
    "            \"nsTsUTC\": 1667840235744172000, # TODO\n",
    "            \"nsTsWindow\": 4799090007210000, # TODO\n",
    "            \"BytesPerSample\": 2, # TODO\n",
    "            \"Samples\":  meas.tolist(),  # TODO as IntString\n",
    "        }\n",
    "\n",
    "        result = client.publish('trigger/{}/parameter'.format(n), json.dumps(payload))\n",
    "        check(result)\n",
    "        \n",
    "        counter += 1\n",
    "        counter %= len(tpa_queue)\n",
    "        \n",
    "        client.loop(1)\n",
    "    time.sleep(2)"
   ]
  },
  {
   "cell_type": "code",
   "execution_count": null,
   "id": "44d97516-fadd-4587-8203-284767daf0cc",
   "metadata": {},
   "outputs": [],
   "source": []
  }
 ],
 "metadata": {
  "kernelspec": {
   "display_name": "Python 3",
   "language": "python",
   "name": "python3"
  },
  "language_info": {
   "codemirror_mode": {
    "name": "ipython",
    "version": 3
   },
   "file_extension": ".py",
   "mimetype": "text/x-python",
   "name": "python",
   "nbconvert_exporter": "python",
   "pygments_lexer": "ipython3",
   "version": "3.9.12"
  }
 },
 "nbformat": 4,
 "nbformat_minor": 5
}
