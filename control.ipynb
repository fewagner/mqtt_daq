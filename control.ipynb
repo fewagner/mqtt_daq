{
 "cells": [
  {
   "cell_type": "code",
   "execution_count": 1,
   "id": "e8d38520-a6ad-40a5-9084-ebf5cdff1e9c",
   "metadata": {},
   "outputs": [],
   "source": [
    "from paho.mqtt import client as mqtt_client\n",
    "import numpy as np\n",
    "import time\n",
    "from datetime import datetime\n",
    "import matplotlib.pyplot as plt\n",
    "import pickle\n",
    "import os\n",
    "import json\n",
    "from utils import *"
   ]
  },
  {
   "cell_type": "code",
   "execution_count": 2,
   "id": "416bcfa2-ab51-4190-96cf-aa73dc6ffd89",
   "metadata": {},
   "outputs": [],
   "source": [
    "broker = 'broker.hivemq.com'\n",
    "port = 1883\n",
    "client_id = 'control-secondary'\n",
    "username = 'fwagner'\n",
    "password = '1234'"
   ]
  },
  {
   "cell_type": "code",
   "execution_count": 3,
   "id": "3da199e7-a528-417f-b7e4-ac5a27218498",
   "metadata": {},
   "outputs": [],
   "source": [
    "nmbr_channels = 2\n",
    "buffer_size = 10\n",
    "model_name = 'dummy_agent'\n",
    "dac = np.random.uniform(-1, 1, size=nmbr_channels)\n",
    "bias_current = np.random.uniform(-1, 1, size=nmbr_channels)"
   ]
  },
  {
   "cell_type": "code",
   "execution_count": 4,
   "id": "d5784edb-64a8-4735-9b61-0cb1d247f751",
   "metadata": {},
   "outputs": [],
   "source": [
    "# state_memories = [np.memmap('data/state_memory_channel_{}.npy'.format(i), dtype=float, shape=(1000000, 5)) for i in range(nmbr_channels)]\n",
    "# next_state_memories = [np.memmap('data/next_state_memory_channel_{}.npy'.format(i), dtype=float, shape=(1000000, 5)) for i in range(nmbr_channels)]\n",
    "# action_memories = [np.memmap('data/action_memory_channel_{}.npy'.format(i), dtype=float, shape=(1000000, 2)) for i in range(nmbr_channels)]\n",
    "# reward_memories = [np.memmap('data/reward_memory_channel_{}.npy'.format(i), dtype=float, shape=(1000000,)) for i in range(nmbr_channels)]\n",
    "# terminal_memories = [np.memmap('data/terminal_memory_channel_{}.npy'.format(i), dtype=float, shape=(1000000,)) for i in range(nmbr_channels)]\n",
    "\n",
    "ph_memories, rms_memories, memory_idx = [], [], []\n",
    "\n",
    "for i in range(nmbr_channels):\n",
    "    mode = 'r+' if os.path.isfile('data/ph_memory_channel_{}.npy'.format(i)) else 'w+'\n",
    "    ph_memories = [np.memmap('data/ph_memory_channel_{}.npy'.format(i), dtype=float, shape=(buffer_size,), mode=mode) for i in range(nmbr_channels)]\n",
    "    \n",
    "    mode = 'r+' if os.path.isfile('data/rms_memory_channel_{}.npy'.format(i)) else 'w+'\n",
    "    rms_memories = [np.memmap('data/rms_memory_channel_{}.npy'.format(i), dtype=float, shape=(buffer_size,), mode=mode) for i in range(nmbr_channels)]\n",
    "    \n",
    "    mode = 'r+' if os.path.isfile('data/memory_idx_channel_{}.npy'.format(i)) else 'w+'\n",
    "    memory_idx = [np.memmap('data/memory_idx_channel_{}.npy'.format(i), dtype=int, shape=1, mode=mode) for i in range(nmbr_channels)]"
   ]
  },
  {
   "cell_type": "code",
   "execution_count": 5,
   "id": "80dd3346-4e66-481b-9906-d81441daeea6",
   "metadata": {},
   "outputs": [],
   "source": [
    "client = connect_mqtt(broker, port, client_id, username, password)"
   ]
  },
  {
   "cell_type": "code",
   "execution_count": 6,
   "id": "6a6b3871-d770-4a01-af4e-4b0ddddd89c2",
   "metadata": {},
   "outputs": [],
   "source": [
    "for i in range(nmbr_channels):\n",
    "    subscribe(client, 'trigger/{}/parameter'.format(i))"
   ]
  },
  {
   "cell_type": "code",
   "execution_count": 7,
   "id": "02bedf19-f3a1-413e-92cc-6c97adb632fc",
   "metadata": {},
   "outputs": [],
   "source": [
    "def receive_and_respond(client, userdata, msg):\n",
    "    \n",
    "    try:\n",
    "        # get data\n",
    "        channel = int(msg.topic.split('/')[1])\n",
    "        data = json.loads(msg.payload)\n",
    "\n",
    "        dac[channel] = float(data[\"DAC\"])\n",
    "        bias_current[channel] = float(data[\"BiasCurrent\"])\n",
    "\n",
    "        samples = np.array(data[\"Samples\"], dtype=float)  # TODO convert from Int16\n",
    "\n",
    "        # calc features\n",
    "        offset = np.mean(samples[:25])\n",
    "        ph = np.max(samples[25:] - offset)\n",
    "        rms = np.std(samples[:25])\n",
    "\n",
    "        # write to buffer\n",
    "        ph_memories[channel][memory_idx[channel][0]] = ph\n",
    "        rms_memories[channel][memory_idx[channel][0]] = rms\n",
    "        memory_idx[channel][0] += 1\n",
    "        memory_idx[channel][0] %= buffer_size\n",
    "        ph_memories[channel].flush()\n",
    "        rms_memories[channel].flush()\n",
    "        memory_idx[channel].flush()\n",
    "\n",
    "        # plot \n",
    "        # plt.plot(samples)\n",
    "        # plt.title('{}, {}'.format(msg.topic, datetime.now()))\n",
    "        # plt.xlabel('Sample index')\n",
    "        # plt.ylabel('Volt')\n",
    "        # plt.show()\n",
    "\n",
    "        # get new control data\n",
    "        with open('models/' + model_name + '_channel_{}.model'.format(channel), 'rb') as handle:\n",
    "            policy = pickle.load(handle)\n",
    "        state = np.array([dac[channel], bias_current[channel], ph, rms])\n",
    "        new_dac, new_bias_current = policy.predict(state)\n",
    "\n",
    "        # respond\n",
    "        print('memory_idx: {}, channel: {}, ph: {}, rms: {}, new dac: {}, new bias current: {}'.format(memory_idx[channel][0], channel, np.max(samples), np.std(samples), new_dac, new_bias_current))\n",
    "\n",
    "        payload_response = {\n",
    "            \"ChannelId\": channel,\n",
    "            \"nsTsUTC\": time.time(),  # TODO is not in ns\n",
    "            \"DAC\": new_dac, \n",
    "            \"BiasCurrent\": new_bias_current,\n",
    "        }\n",
    "\n",
    "        result = client.publish('control/{}/set_control'.format(channel), json.dumps(payload_response))\n",
    "        check(result)\n",
    "        \n",
    "    except KeyError as err_msg:\n",
    "        print('KeyError: ', err_msg)\n",
    "        pass"
   ]
  },
  {
   "cell_type": "code",
   "execution_count": 8,
   "id": "2d48a0ef-7095-4328-bdd9-ae6898625d0c",
   "metadata": {},
   "outputs": [],
   "source": [
    "client.on_message = receive_and_respond"
   ]
  },
  {
   "cell_type": "code",
   "execution_count": 9,
   "id": "1cb8f4e9-5950-4c33-92b7-138bc14eea72",
   "metadata": {},
   "outputs": [
    {
     "name": "stdout",
     "output_type": "stream",
     "text": [
      "Connected to MQTT Broker!\n",
      "memory_idx: 7, channel: 0, ph: 0.6692180873043727, rms: 0.10973783642330293, new dac: -0.9232369763036785, new bias current: 0.16878771853171926\n",
      "memory_idx: 0, channel: 1, ph: 1.5370438731131686, rms: 0.25306651977358974, new dac: 0.3098939519109043, new bias current: 0.3810800006380455\n",
      "memory_idx: 8, channel: 0, ph: 1.3032491867139666, rms: 0.2172215355743416, new dac: -0.2694951102104213, new bias current: -0.695879838594903\n",
      "memory_idx: 1, channel: 1, ph: 2.4690040225877157, rms: 0.41756568492559876, new dac: 0.8282777132012318, new bias current: -0.2647005993317355\n",
      "memory_idx: 9, channel: 0, ph: 0.018130780539998635, rms: 0.15520529441039027, new dac: 0.4312093528940757, new bias current: 0.20307479315490262\n",
      "memory_idx: 2, channel: 1, ph: 0.8260598013678996, rms: 0.1402622635341884, new dac: 0.2063424112749277, new bias current: -0.3617400737747474\n",
      "memory_idx: 0, channel: 0, ph: 1.4802549886776322, rms: 0.24665453088788455, new dac: -0.7717645533953044, new bias current: 0.5249368748577439\n",
      "memory_idx: 3, channel: 1, ph: 0.02851894769617361, rms: 0.32540253536129754, new dac: -0.57595177200479, new bias current: 0.16752815372628693\n",
      "memory_idx: 1, channel: 0, ph: 0.029293114101093098, rms: 0.010362732108572944, new dac: 0.813483517636898, new bias current: -0.8834391835463307\n",
      "memory_idx: 4, channel: 1, ph: 0.03863823477828155, rms: 0.019129967222509522, new dac: -0.48012067002005243, new bias current: 0.6876090888993582\n",
      "memory_idx: 2, channel: 0, ph: 0.06963024114445455, rms: 0.13576854097516458, new dac: -0.37208906218152293, new bias current: -0.15574663067720795\n",
      "memory_idx: 5, channel: 1, ph: 0.015804235469690023, rms: 0.047276177302872854, new dac: 0.42738136974635244, new bias current: 0.05284220200027878\n",
      "memory_idx: 3, channel: 0, ph: 0.10972163668195924, rms: 0.47559352971449853, new dac: 0.45039142283622335, new bias current: 0.37982693978441273\n",
      "memory_idx: 6, channel: 1, ph: 0.120610355265177, rms: 0.27641351512500345, new dac: -0.1581350567201285, new bias current: 0.7328101083559726\n"
     ]
    },
    {
     "ename": "KeyboardInterrupt",
     "evalue": "",
     "output_type": "error",
     "traceback": [
      "\u001b[0;31m---------------------------------------------------------------------------\u001b[0m",
      "\u001b[0;31mKeyboardInterrupt\u001b[0m                         Traceback (most recent call last)",
      "\u001b[0;32m<ipython-input-9-331526b62073>\u001b[0m in \u001b[0;36m<module>\u001b[0;34m\u001b[0m\n\u001b[0;32m----> 1\u001b[0;31m \u001b[0mclient\u001b[0m\u001b[0;34m.\u001b[0m\u001b[0mloop_forever\u001b[0m\u001b[0;34m(\u001b[0m\u001b[0;34m)\u001b[0m\u001b[0;34m\u001b[0m\u001b[0;34m\u001b[0m\u001b[0m\n\u001b[0m",
      "\u001b[0;32m~/.pyenv/versions/3.8.6/lib/python3.8/site-packages/paho/mqtt/client.py\u001b[0m in \u001b[0;36mloop_forever\u001b[0;34m(self, timeout, max_packets, retry_first_connection)\u001b[0m\n\u001b[1;32m   1754\u001b[0m             \u001b[0mrc\u001b[0m \u001b[0;34m=\u001b[0m \u001b[0mMQTT_ERR_SUCCESS\u001b[0m\u001b[0;34m\u001b[0m\u001b[0;34m\u001b[0m\u001b[0m\n\u001b[1;32m   1755\u001b[0m             \u001b[0;32mwhile\u001b[0m \u001b[0mrc\u001b[0m \u001b[0;34m==\u001b[0m \u001b[0mMQTT_ERR_SUCCESS\u001b[0m\u001b[0;34m:\u001b[0m\u001b[0;34m\u001b[0m\u001b[0;34m\u001b[0m\u001b[0m\n\u001b[0;32m-> 1756\u001b[0;31m                 \u001b[0mrc\u001b[0m \u001b[0;34m=\u001b[0m \u001b[0mself\u001b[0m\u001b[0;34m.\u001b[0m\u001b[0m_loop\u001b[0m\u001b[0;34m(\u001b[0m\u001b[0mtimeout\u001b[0m\u001b[0;34m)\u001b[0m\u001b[0;34m\u001b[0m\u001b[0;34m\u001b[0m\u001b[0m\n\u001b[0m\u001b[1;32m   1757\u001b[0m                 \u001b[0;31m# We don't need to worry about locking here, because we've\u001b[0m\u001b[0;34m\u001b[0m\u001b[0;34m\u001b[0m\u001b[0;34m\u001b[0m\u001b[0m\n\u001b[1;32m   1758\u001b[0m                 \u001b[0;31m# either called loop_forever() when in single threaded mode, or\u001b[0m\u001b[0;34m\u001b[0m\u001b[0;34m\u001b[0m\u001b[0;34m\u001b[0m\u001b[0m\n",
      "\u001b[0;32m~/.pyenv/versions/3.8.6/lib/python3.8/site-packages/paho/mqtt/client.py\u001b[0m in \u001b[0;36m_loop\u001b[0;34m(self, timeout)\u001b[0m\n\u001b[1;32m   1148\u001b[0m \u001b[0;34m\u001b[0m\u001b[0m\n\u001b[1;32m   1149\u001b[0m         \u001b[0;32mtry\u001b[0m\u001b[0;34m:\u001b[0m\u001b[0;34m\u001b[0m\u001b[0;34m\u001b[0m\u001b[0m\n\u001b[0;32m-> 1150\u001b[0;31m             \u001b[0msocklist\u001b[0m \u001b[0;34m=\u001b[0m \u001b[0mselect\u001b[0m\u001b[0;34m.\u001b[0m\u001b[0mselect\u001b[0m\u001b[0;34m(\u001b[0m\u001b[0mrlist\u001b[0m\u001b[0;34m,\u001b[0m \u001b[0mwlist\u001b[0m\u001b[0;34m,\u001b[0m \u001b[0;34m[\u001b[0m\u001b[0;34m]\u001b[0m\u001b[0;34m,\u001b[0m \u001b[0mtimeout\u001b[0m\u001b[0;34m)\u001b[0m\u001b[0;34m\u001b[0m\u001b[0;34m\u001b[0m\u001b[0m\n\u001b[0m\u001b[1;32m   1151\u001b[0m         \u001b[0;32mexcept\u001b[0m \u001b[0mTypeError\u001b[0m\u001b[0;34m:\u001b[0m\u001b[0;34m\u001b[0m\u001b[0;34m\u001b[0m\u001b[0m\n\u001b[1;32m   1152\u001b[0m             \u001b[0;31m# Socket isn't correct type, in likelihood connection is lost\u001b[0m\u001b[0;34m\u001b[0m\u001b[0;34m\u001b[0m\u001b[0;34m\u001b[0m\u001b[0m\n",
      "\u001b[0;31mKeyboardInterrupt\u001b[0m: "
     ]
    }
   ],
   "source": [
    "client.loop_forever()"
   ]
  },
  {
   "cell_type": "code",
   "execution_count": null,
   "id": "7d06d25d-22bd-4323-a0d6-4ddf767c08cb",
   "metadata": {},
   "outputs": [],
   "source": []
  }
 ],
 "metadata": {
  "kernelspec": {
   "display_name": "Python 3",
   "language": "python",
   "name": "python3"
  },
  "language_info": {
   "codemirror_mode": {
    "name": "ipython",
    "version": 3
   },
   "file_extension": ".py",
   "mimetype": "text/x-python",
   "name": "python",
   "nbconvert_exporter": "python",
   "pygments_lexer": "ipython3",
   "version": "3.8.6"
  }
 },
 "nbformat": 4,
 "nbformat_minor": 5
}
