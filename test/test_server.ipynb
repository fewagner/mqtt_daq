{
 "cells": [
  {
   "cell_type": "code",
   "execution_count": null,
   "id": "2c7420f2-4c9d-41e9-b1c3-f92c6d7ece58",
   "metadata": {},
   "outputs": [],
   "source": [
    "from paho.mqtt import client as mqtt_client\n",
    "import numpy as np\n",
    "import time\n",
    "from utils import *"
   ]
  },
  {
   "cell_type": "code",
   "execution_count": 2,
   "id": "28b35e73-f527-442a-a81a-4f4d2c11d0c4",
   "metadata": {},
   "outputs": [],
   "source": [
    "broker = 'broker.emqx.io'\n",
    "port = 1883\n",
    "topic = \"python/mqtt\"\n",
    "client_id = f'python-mqtt-{np.random.randint(0, 1000)}'\n",
    "username = 'emqx'\n",
    "password = 'public'"
   ]
  },
  {
   "cell_type": "code",
   "execution_count": 3,
   "id": "ee3de14c-29c2-471a-9c92-6b0ce3124810",
   "metadata": {},
   "outputs": [],
   "source": [
    "client = connect_mqtt(broker, port, client_id, username, password)"
   ]
  },
  {
   "cell_type": "code",
   "execution_count": 4,
   "id": "b30f6c4b-45db-45c0-93fa-630466122cdc",
   "metadata": {},
   "outputs": [],
   "source": [
    "client.loop_start()"
   ]
  },
  {
   "cell_type": "code",
   "execution_count": 5,
   "id": "462495bd-0eaa-429d-aa62-dbd3e812aff9",
   "metadata": {},
   "outputs": [
    {
     "name": "stdout",
     "output_type": "stream",
     "text": [
      "Send `messages: 0` to topic `python/mqtt`\n",
      "Send `messages: 1` to topic `python/mqtt`\n",
      "Send `messages: 2` to topic `python/mqtt`\n",
      "Send `messages: 3` to topic `python/mqtt`\n",
      "Send `messages: 4` to topic `python/mqtt`\n",
      "Send `messages: 5` to topic `python/mqtt`\n",
      "Send `messages: 6` to topic `python/mqtt`\n",
      "Send `messages: 7` to topic `python/mqtt`\n",
      "Send `messages: 8` to topic `python/mqtt`\n",
      "Send `messages: 9` to topic `python/mqtt`\n",
      "Send `messages: 10` to topic `python/mqtt`\n",
      "Send `messages: 11` to topic `python/mqtt`\n",
      "Send `messages: 12` to topic `python/mqtt`\n",
      "Send `messages: 13` to topic `python/mqtt`\n",
      "Send `messages: 14` to topic `python/mqtt`\n",
      "Send `messages: 15` to topic `python/mqtt`\n",
      "Send `messages: 16` to topic `python/mqtt`\n",
      "Send `messages: 17` to topic `python/mqtt`\n",
      "Send `messages: 18` to topic `python/mqtt`\n",
      "Send `messages: 19` to topic `python/mqtt`\n",
      "Send `messages: 20` to topic `python/mqtt`\n",
      "Send `messages: 21` to topic `python/mqtt`\n",
      "Send `messages: 22` to topic `python/mqtt`\n",
      "Send `messages: 23` to topic `python/mqtt`\n",
      "Send `messages: 24` to topic `python/mqtt`\n",
      "Send `messages: 25` to topic `python/mqtt`\n",
      "Send `messages: 26` to topic `python/mqtt`\n",
      "Send `messages: 27` to topic `python/mqtt`\n",
      "Send `messages: 28` to topic `python/mqtt`\n",
      "Send `messages: 29` to topic `python/mqtt`\n",
      "Send `messages: 30` to topic `python/mqtt`\n",
      "Send `messages: 31` to topic `python/mqtt`\n",
      "Send `messages: 32` to topic `python/mqtt`\n",
      "Send `messages: 33` to topic `python/mqtt`\n",
      "Send `messages: 34` to topic `python/mqtt`\n",
      "Send `messages: 35` to topic `python/mqtt`\n",
      "Send `messages: 36` to topic `python/mqtt`\n",
      "Send `messages: 37` to topic `python/mqtt`\n",
      "Send `messages: 38` to topic `python/mqtt`\n",
      "Send `messages: 39` to topic `python/mqtt`\n",
      "Send `messages: 40` to topic `python/mqtt`\n",
      "Send `messages: 41` to topic `python/mqtt`\n",
      "Send `messages: 42` to topic `python/mqtt`\n",
      "Send `messages: 43` to topic `python/mqtt`\n",
      "Send `messages: 44` to topic `python/mqtt`\n",
      "Send `messages: 45` to topic `python/mqtt`\n",
      "Send `messages: 46` to topic `python/mqtt`\n",
      "Send `messages: 47` to topic `python/mqtt`\n",
      "Send `messages: 48` to topic `python/mqtt`\n",
      "Send `messages: 49` to topic `python/mqtt`\n",
      "Send `messages: 50` to topic `python/mqtt`\n",
      "Send `messages: 51` to topic `python/mqtt`\n",
      "Send `messages: 52` to topic `python/mqtt`\n",
      "Send `messages: 53` to topic `python/mqtt`\n",
      "Send `messages: 54` to topic `python/mqtt`\n",
      "Send `messages: 55` to topic `python/mqtt`\n",
      "Send `messages: 56` to topic `python/mqtt`\n",
      "Send `messages: 57` to topic `python/mqtt`\n",
      "Send `messages: 58` to topic `python/mqtt`\n",
      "Send `messages: 59` to topic `python/mqtt`\n",
      "Send `messages: 60` to topic `python/mqtt`\n",
      "Send `messages: 61` to topic `python/mqtt`\n",
      "Send `messages: 62` to topic `python/mqtt`\n",
      "Send `messages: 63` to topic `python/mqtt`\n",
      "Send `messages: 64` to topic `python/mqtt`\n",
      "Send `messages: 65` to topic `python/mqtt`\n",
      "Send `messages: 66` to topic `python/mqtt`\n",
      "Send `messages: 67` to topic `python/mqtt`\n",
      "Send `messages: 68` to topic `python/mqtt`\n",
      "Send `messages: 69` to topic `python/mqtt`\n",
      "Send `messages: 70` to topic `python/mqtt`\n",
      "Send `messages: 71` to topic `python/mqtt`\n",
      "Send `messages: 72` to topic `python/mqtt`\n",
      "Send `messages: 73` to topic `python/mqtt`\n",
      "Send `messages: 74` to topic `python/mqtt`\n",
      "Send `messages: 75` to topic `python/mqtt`\n",
      "Send `messages: 76` to topic `python/mqtt`\n",
      "Send `messages: 77` to topic `python/mqtt`\n",
      "Send `messages: 78` to topic `python/mqtt`\n",
      "Send `messages: 79` to topic `python/mqtt`\n",
      "Send `messages: 80` to topic `python/mqtt`\n",
      "Send `messages: 81` to topic `python/mqtt`\n",
      "Send `messages: 82` to topic `python/mqtt`\n",
      "Send `messages: 83` to topic `python/mqtt`\n",
      "Send `messages: 84` to topic `python/mqtt`\n",
      "Send `messages: 85` to topic `python/mqtt`\n",
      "Send `messages: 86` to topic `python/mqtt`\n",
      "Send `messages: 87` to topic `python/mqtt`\n",
      "Send `messages: 88` to topic `python/mqtt`\n",
      "Send `messages: 89` to topic `python/mqtt`\n",
      "Send `messages: 90` to topic `python/mqtt`\n",
      "Send `messages: 91` to topic `python/mqtt`\n",
      "Send `messages: 92` to topic `python/mqtt`\n",
      "Send `messages: 93` to topic `python/mqtt`\n",
      "Send `messages: 94` to topic `python/mqtt`\n",
      "Send `messages: 95` to topic `python/mqtt`\n",
      "Send `messages: 96` to topic `python/mqtt`\n",
      "Send `messages: 97` to topic `python/mqtt`\n",
      "Send `messages: 98` to topic `python/mqtt`\n",
      "Send `messages: 99` to topic `python/mqtt`\n",
      "Send `messages: 100` to topic `python/mqtt`\n",
      "Send `messages: 101` to topic `python/mqtt`\n",
      "Send `messages: 102` to topic `python/mqtt`\n"
     ]
    },
    {
     "ename": "KeyboardInterrupt",
     "evalue": "",
     "output_type": "error",
     "traceback": [
      "\u001b[0;31m---------------------------------------------------------------------------\u001b[0m",
      "\u001b[0;31mKeyboardInterrupt\u001b[0m                         Traceback (most recent call last)",
      "\u001b[0;32m<ipython-input-5-1820b8c6d456>\u001b[0m in \u001b[0;36m<module>\u001b[0;34m\u001b[0m\n\u001b[0;32m----> 1\u001b[0;31m \u001b[0mpublish\u001b[0m\u001b[0;34m(\u001b[0m\u001b[0mclient\u001b[0m\u001b[0;34m,\u001b[0m \u001b[0mtopic\u001b[0m\u001b[0;34m)\u001b[0m\u001b[0;34m\u001b[0m\u001b[0;34m\u001b[0m\u001b[0m\n\u001b[0m",
      "\u001b[0;32m~/PycharmProjects/mqtt_test/utils.py\u001b[0m in \u001b[0;36mpublish\u001b[0;34m(client, topic)\u001b[0m\n\u001b[1;32m     19\u001b[0m     \u001b[0mmsg_count\u001b[0m \u001b[0;34m=\u001b[0m \u001b[0;36m0\u001b[0m\u001b[0;34m\u001b[0m\u001b[0;34m\u001b[0m\u001b[0m\n\u001b[1;32m     20\u001b[0m     \u001b[0;32mwhile\u001b[0m \u001b[0;32mTrue\u001b[0m\u001b[0;34m:\u001b[0m\u001b[0;34m\u001b[0m\u001b[0;34m\u001b[0m\u001b[0m\n\u001b[0;32m---> 21\u001b[0;31m         \u001b[0mtime\u001b[0m\u001b[0;34m.\u001b[0m\u001b[0msleep\u001b[0m\u001b[0;34m(\u001b[0m\u001b[0;36m1\u001b[0m\u001b[0;34m)\u001b[0m\u001b[0;34m\u001b[0m\u001b[0;34m\u001b[0m\u001b[0m\n\u001b[0m\u001b[1;32m     22\u001b[0m         \u001b[0mmsg\u001b[0m \u001b[0;34m=\u001b[0m \u001b[0;34mf\"messages: {msg_count}\"\u001b[0m\u001b[0;34m\u001b[0m\u001b[0;34m\u001b[0m\u001b[0m\n\u001b[1;32m     23\u001b[0m         \u001b[0mresult\u001b[0m \u001b[0;34m=\u001b[0m \u001b[0mclient\u001b[0m\u001b[0;34m.\u001b[0m\u001b[0mpublish\u001b[0m\u001b[0;34m(\u001b[0m\u001b[0mtopic\u001b[0m\u001b[0;34m,\u001b[0m \u001b[0mmsg\u001b[0m\u001b[0;34m)\u001b[0m\u001b[0;34m\u001b[0m\u001b[0;34m\u001b[0m\u001b[0m\n",
      "\u001b[0;31mKeyboardInterrupt\u001b[0m: "
     ]
    }
   ],
   "source": [
    "publish(client, topic)"
   ]
  },
  {
   "cell_type": "code",
   "execution_count": null,
   "id": "b1fe49a8-ddd5-47cd-8699-14e74acc509b",
   "metadata": {},
   "outputs": [],
   "source": []
  }
 ],
 "metadata": {
  "kernelspec": {
   "display_name": "Python 3",
   "language": "python",
   "name": "python3"
  },
  "language_info": {
   "codemirror_mode": {
    "name": "ipython",
    "version": 3
   },
   "file_extension": ".py",
   "mimetype": "text/x-python",
   "name": "python",
   "nbconvert_exporter": "python",
   "pygments_lexer": "ipython3",
   "version": "3.8.6"
  }
 },
 "nbformat": 4,
 "nbformat_minor": 5
}
