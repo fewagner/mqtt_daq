{
 "cells": [
  {
   "cell_type": "code",
   "execution_count": 1,
   "id": "d3e65807-0e4e-406f-8236-f4dd35fab1a4",
   "metadata": {},
   "outputs": [],
   "source": [
    "from paho.mqtt import client as mqtt_client\n",
    "import numpy as np\n",
    "import time\n",
    "from utils import *"
   ]
  },
  {
   "cell_type": "code",
   "execution_count": 2,
   "id": "b82fb0bb-544c-4662-8c79-fb43243299c0",
   "metadata": {},
   "outputs": [],
   "source": [
    "broker = 'broker.emqx.io'\n",
    "port = 1883\n",
    "topic = \"python/mqtt\"\n",
    "client_id = f'python-mqtt-{np.random.randint(0, 1000)}'\n",
    "username = 'emqx'\n",
    "password = 'public'"
   ]
  },
  {
   "cell_type": "code",
   "execution_count": 3,
   "id": "84a396e7-723f-4659-8f7c-e6ccb25bcc2b",
   "metadata": {},
   "outputs": [],
   "source": [
    "client = connect_mqtt(broker, port, client_id, username, password)"
   ]
  },
  {
   "cell_type": "code",
   "execution_count": 5,
   "id": "826a01a9-9da5-4b1c-8745-73ca270f94fa",
   "metadata": {},
   "outputs": [],
   "source": [
    "subscribe(client, topic)"
   ]
  },
  {
   "cell_type": "code",
   "execution_count": 6,
   "id": "53670de0-78b7-4ed8-bbfc-d51756040684",
   "metadata": {},
   "outputs": [
    {
     "name": "stdout",
     "output_type": "stream",
     "text": [
      "Connected to MQTT Broker!\n",
      "Received `Oiii` from `python/mqtt` topic\n",
      "Received `messages: 56` from `python/mqtt` topic\n",
      "Received `messages: 57` from `python/mqtt` topic\n",
      "Received `messages: 58` from `python/mqtt` topic\n",
      "Received `messages: 59` from `python/mqtt` topic\n",
      "Received `messages: 60` from `python/mqtt` topic\n",
      "Received `messages: 61` from `python/mqtt` topic\n",
      "Received `messages: 62` from `python/mqtt` topic\n",
      "Received `messages: 63` from `python/mqtt` topic\n",
      "Received `messages: 64` from `python/mqtt` topic\n",
      "Received `messages: 65` from `python/mqtt` topic\n",
      "Received `messages: 66` from `python/mqtt` topic\n",
      "Received `messages: 67` from `python/mqtt` topic\n",
      "Received `messages: 68` from `python/mqtt` topic\n",
      "Received `messages: 69` from `python/mqtt` topic\n",
      "Received `messages: 70` from `python/mqtt` topic\n",
      "Received `messages: 71` from `python/mqtt` topic\n",
      "Received `messages: 72` from `python/mqtt` topic\n",
      "Received `messages: 73` from `python/mqtt` topic\n",
      "Received `messages: 74` from `python/mqtt` topic\n",
      "Received `messages: 75` from `python/mqtt` topic\n",
      "Received `messages: 76` from `python/mqtt` topic\n",
      "Received `messages: 77` from `python/mqtt` topic\n",
      "Received `messages: 78` from `python/mqtt` topic\n",
      "Received `messages: 79` from `python/mqtt` topic\n",
      "Received `messages: 80` from `python/mqtt` topic\n",
      "Received `messages: 81` from `python/mqtt` topic\n",
      "Received `messages: 82` from `python/mqtt` topic\n",
      "Received `messages: 83` from `python/mqtt` topic\n",
      "Received `messages: 84` from `python/mqtt` topic\n",
      "Received `messages: 85` from `python/mqtt` topic\n",
      "Received `messages: 86` from `python/mqtt` topic\n",
      "Received `messages: 87` from `python/mqtt` topic\n",
      "Received `messages: 88` from `python/mqtt` topic\n",
      "Received `messages: 89` from `python/mqtt` topic\n",
      "Received `messages: 90` from `python/mqtt` topic\n",
      "Received `messages: 91` from `python/mqtt` topic\n",
      "Received `messages: 92` from `python/mqtt` topic\n",
      "Received `messages: 93` from `python/mqtt` topic\n",
      "Received `messages: 94` from `python/mqtt` topic\n",
      "Received `messages: 95` from `python/mqtt` topic\n",
      "Received `messages: 96` from `python/mqtt` topic\n",
      "Received `messages: 97` from `python/mqtt` topic\n",
      "Received `messages: 98` from `python/mqtt` topic\n",
      "Received `messages: 99` from `python/mqtt` topic\n",
      "Received `messages: 100` from `python/mqtt` topic\n"
     ]
    },
    {
     "ename": "KeyboardInterrupt",
     "evalue": "",
     "output_type": "error",
     "traceback": [
      "\u001b[0;31m---------------------------------------------------------------------------\u001b[0m",
      "\u001b[0;31mKeyboardInterrupt\u001b[0m                         Traceback (most recent call last)",
      "\u001b[0;32m<ipython-input-6-331526b62073>\u001b[0m in \u001b[0;36m<module>\u001b[0;34m\u001b[0m\n\u001b[0;32m----> 1\u001b[0;31m \u001b[0mclient\u001b[0m\u001b[0;34m.\u001b[0m\u001b[0mloop_forever\u001b[0m\u001b[0;34m(\u001b[0m\u001b[0;34m)\u001b[0m\u001b[0;34m\u001b[0m\u001b[0;34m\u001b[0m\u001b[0m\n\u001b[0m",
      "\u001b[0;32m~/.pyenv/versions/3.8.6/lib/python3.8/site-packages/paho/mqtt/client.py\u001b[0m in \u001b[0;36mloop_forever\u001b[0;34m(self, timeout, max_packets, retry_first_connection)\u001b[0m\n\u001b[1;32m   1754\u001b[0m             \u001b[0mrc\u001b[0m \u001b[0;34m=\u001b[0m \u001b[0mMQTT_ERR_SUCCESS\u001b[0m\u001b[0;34m\u001b[0m\u001b[0;34m\u001b[0m\u001b[0m\n\u001b[1;32m   1755\u001b[0m             \u001b[0;32mwhile\u001b[0m \u001b[0mrc\u001b[0m \u001b[0;34m==\u001b[0m \u001b[0mMQTT_ERR_SUCCESS\u001b[0m\u001b[0;34m:\u001b[0m\u001b[0;34m\u001b[0m\u001b[0;34m\u001b[0m\u001b[0m\n\u001b[0;32m-> 1756\u001b[0;31m                 \u001b[0mrc\u001b[0m \u001b[0;34m=\u001b[0m \u001b[0mself\u001b[0m\u001b[0;34m.\u001b[0m\u001b[0m_loop\u001b[0m\u001b[0;34m(\u001b[0m\u001b[0mtimeout\u001b[0m\u001b[0;34m)\u001b[0m\u001b[0;34m\u001b[0m\u001b[0;34m\u001b[0m\u001b[0m\n\u001b[0m\u001b[1;32m   1757\u001b[0m                 \u001b[0;31m# We don't need to worry about locking here, because we've\u001b[0m\u001b[0;34m\u001b[0m\u001b[0;34m\u001b[0m\u001b[0;34m\u001b[0m\u001b[0m\n\u001b[1;32m   1758\u001b[0m                 \u001b[0;31m# either called loop_forever() when in single threaded mode, or\u001b[0m\u001b[0;34m\u001b[0m\u001b[0;34m\u001b[0m\u001b[0;34m\u001b[0m\u001b[0m\n",
      "\u001b[0;32m~/.pyenv/versions/3.8.6/lib/python3.8/site-packages/paho/mqtt/client.py\u001b[0m in \u001b[0;36m_loop\u001b[0;34m(self, timeout)\u001b[0m\n\u001b[1;32m   1148\u001b[0m \u001b[0;34m\u001b[0m\u001b[0m\n\u001b[1;32m   1149\u001b[0m         \u001b[0;32mtry\u001b[0m\u001b[0;34m:\u001b[0m\u001b[0;34m\u001b[0m\u001b[0;34m\u001b[0m\u001b[0m\n\u001b[0;32m-> 1150\u001b[0;31m             \u001b[0msocklist\u001b[0m \u001b[0;34m=\u001b[0m \u001b[0mselect\u001b[0m\u001b[0;34m.\u001b[0m\u001b[0mselect\u001b[0m\u001b[0;34m(\u001b[0m\u001b[0mrlist\u001b[0m\u001b[0;34m,\u001b[0m \u001b[0mwlist\u001b[0m\u001b[0;34m,\u001b[0m \u001b[0;34m[\u001b[0m\u001b[0;34m]\u001b[0m\u001b[0;34m,\u001b[0m \u001b[0mtimeout\u001b[0m\u001b[0;34m)\u001b[0m\u001b[0;34m\u001b[0m\u001b[0;34m\u001b[0m\u001b[0m\n\u001b[0m\u001b[1;32m   1151\u001b[0m         \u001b[0;32mexcept\u001b[0m \u001b[0mTypeError\u001b[0m\u001b[0;34m:\u001b[0m\u001b[0;34m\u001b[0m\u001b[0;34m\u001b[0m\u001b[0m\n\u001b[1;32m   1152\u001b[0m             \u001b[0;31m# Socket isn't correct type, in likelihood connection is lost\u001b[0m\u001b[0;34m\u001b[0m\u001b[0;34m\u001b[0m\u001b[0;34m\u001b[0m\u001b[0m\n",
      "\u001b[0;31mKeyboardInterrupt\u001b[0m: "
     ]
    }
   ],
   "source": [
    "client.loop_forever()"
   ]
  },
  {
   "cell_type": "code",
   "execution_count": null,
   "id": "1081c65f-42ec-4a2d-8ac2-da30e4b36cac",
   "metadata": {},
   "outputs": [],
   "source": []
  }
 ],
 "metadata": {
  "kernelspec": {
   "display_name": "Python 3",
   "language": "python",
   "name": "python3"
  },
  "language_info": {
   "codemirror_mode": {
    "name": "ipython",
    "version": 3
   },
   "file_extension": ".py",
   "mimetype": "text/x-python",
   "name": "python",
   "nbconvert_exporter": "python",
   "pygments_lexer": "ipython3",
   "version": "3.8.6"
  }
 },
 "nbformat": 4,
 "nbformat_minor": 5
}
