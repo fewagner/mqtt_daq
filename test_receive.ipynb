{
 "cells": [
  {
   "cell_type": "code",
   "execution_count": 1,
   "id": "905d8d51-fb19-4741-b52a-6a54dc018208",
   "metadata": {},
   "outputs": [],
   "source": [
    "from paho.mqtt import client as mqtt_client\n",
    "import numpy as np\n",
    "import time\n",
    "from datetime import datetime\n",
    "import matplotlib.pyplot as plt\n",
    "import pickle\n",
    "import os\n",
    "import json\n",
    "from utils import *"
   ]
  },
  {
   "cell_type": "code",
   "execution_count": 2,
   "id": "47a95504-78a9-4c66-ae46-6a07abfdbbf3",
   "metadata": {},
   "outputs": [],
   "source": [
    "broker = 'broker.hivemq.com'\n",
    "port = 1883\n",
    "client_id = 'test-secondary'\n",
    "username = 'fwagner'\n",
    "password = '1234'"
   ]
  },
  {
   "cell_type": "code",
   "execution_count": 3,
   "id": "68c54c5c-b9d8-438a-bc1c-67f2bbd4bfa6",
   "metadata": {},
   "outputs": [],
   "source": [
    "client_receiver = connect_mqtt(broker, port, client_id, username, password)"
   ]
  },
  {
   "cell_type": "code",
   "execution_count": 4,
   "id": "669d58e1-3799-4a95-9405-a58f2dd00af3",
   "metadata": {},
   "outputs": [],
   "source": [
    "subscribe(client_receiver, 'ccs/test')"
   ]
  },
  {
   "cell_type": "code",
   "execution_count": 11,
   "id": "315edc10-17ba-44a2-aded-dfd38cad72ae",
   "metadata": {},
   "outputs": [],
   "source": [
    "def receive(client, userdata, msg):\n",
    "    print(time.time(), json.loads(msg.payload))"
   ]
  },
  {
   "cell_type": "code",
   "execution_count": 12,
   "id": "a7de2c05-3fd6-40db-96fc-050b6f57db6f",
   "metadata": {},
   "outputs": [],
   "source": [
    "client_receiver.on_message = receive"
   ]
  },
  {
   "cell_type": "code",
   "execution_count": 13,
   "id": "731b67e5-f42a-44e8-9046-78745913e65b",
   "metadata": {},
   "outputs": [
    {
     "name": "stdout",
     "output_type": "stream",
     "text": [
      "1671455258.61872 {'hello': 'world'}\n",
      "1671455268.499041 {'hello': 'world'}\n",
      "1671455278.492008 {'hello': 'world'}\n",
      "1671455288.497365 {'hello': 'world'}\n",
      "1671455298.5024571 {'hello': 'world'}\n",
      "1671455308.496964 {'hello': 'world'}\n",
      "1671455318.523094 {'hello': 'world'}\n",
      "1671455328.4998882 {'hello': 'world'}\n",
      "1671455338.5064042 {'hello': 'world'}\n",
      "1671455348.5168462 {'hello': 'world'}\n",
      "1671455358.5077062 {'hello': 'world'}\n",
      "1671455368.5081012 {'hello': 'world'}\n",
      "1671455378.508749 {'hello': 'world'}\n",
      "1671455388.5066109 {'hello': 'world'}\n",
      "1671455398.509464 {'hello': 'world'}\n",
      "1671455408.509521 {'hello': 'world'}\n",
      "1671455418.520341 {'hello': 'world'}\n",
      "1671455428.517945 {'hello': 'world'}\n",
      "1671455438.517088 {'hello': 'world'}\n",
      "1671455448.519304 {'hello': 'world'}\n",
      "1671455458.521568 {'hello': 'world'}\n",
      "1671455468.523424 {'hello': 'world'}\n",
      "1671455478.5221682 {'hello': 'world'}\n",
      "1671455488.525743 {'hello': 'world'}\n",
      "1671455498.528775 {'hello': 'world'}\n",
      "1671455508.532937 {'hello': 'world'}\n",
      "1671455518.5484312 {'hello': 'world'}\n",
      "1671455528.5347478 {'hello': 'world'}\n",
      "1671455538.569505 {'hello': 'world'}\n",
      "1671455548.541724 {'hello': 'world'}\n",
      "1671455558.5413299 {'hello': 'world'}\n",
      "1671455568.551894 {'hello': 'world'}\n",
      "1671455578.551945 {'hello': 'world'}\n",
      "1671455588.5533068 {'hello': 'world'}\n",
      "1671455598.553039 {'hello': 'world'}\n",
      "1671455608.688212 {'hello': 'world'}\n",
      "1671455618.5705001 {'hello': 'world'}\n",
      "1671455628.573771 {'hello': 'world'}\n",
      "1671455638.575469 {'hello': 'world'}\n",
      "1671455648.677535 {'hello': 'world'}\n",
      "1671455658.5797708 {'hello': 'world'}\n"
     ]
    },
    {
     "ename": "KeyboardInterrupt",
     "evalue": "",
     "output_type": "error",
     "traceback": [
      "\u001b[0;31m---------------------------------------------------------------------------\u001b[0m",
      "\u001b[0;31mKeyboardInterrupt\u001b[0m                         Traceback (most recent call last)",
      "\u001b[0;32m<ipython-input-13-23373955d902>\u001b[0m in \u001b[0;36m<module>\u001b[0;34m\u001b[0m\n\u001b[0;32m----> 1\u001b[0;31m \u001b[0mclient_receiver\u001b[0m\u001b[0;34m.\u001b[0m\u001b[0mloop_forever\u001b[0m\u001b[0;34m(\u001b[0m\u001b[0;34m)\u001b[0m\u001b[0;34m\u001b[0m\u001b[0;34m\u001b[0m\u001b[0m\n\u001b[0m",
      "\u001b[0;32m~/.pyenv/versions/3.8.6/lib/python3.8/site-packages/paho/mqtt/client.py\u001b[0m in \u001b[0;36mloop_forever\u001b[0;34m(self, timeout, max_packets, retry_first_connection)\u001b[0m\n\u001b[1;32m   1754\u001b[0m             \u001b[0mrc\u001b[0m \u001b[0;34m=\u001b[0m \u001b[0mMQTT_ERR_SUCCESS\u001b[0m\u001b[0;34m\u001b[0m\u001b[0;34m\u001b[0m\u001b[0m\n\u001b[1;32m   1755\u001b[0m             \u001b[0;32mwhile\u001b[0m \u001b[0mrc\u001b[0m \u001b[0;34m==\u001b[0m \u001b[0mMQTT_ERR_SUCCESS\u001b[0m\u001b[0;34m:\u001b[0m\u001b[0;34m\u001b[0m\u001b[0;34m\u001b[0m\u001b[0m\n\u001b[0;32m-> 1756\u001b[0;31m                 \u001b[0mrc\u001b[0m \u001b[0;34m=\u001b[0m \u001b[0mself\u001b[0m\u001b[0;34m.\u001b[0m\u001b[0m_loop\u001b[0m\u001b[0;34m(\u001b[0m\u001b[0mtimeout\u001b[0m\u001b[0;34m)\u001b[0m\u001b[0;34m\u001b[0m\u001b[0;34m\u001b[0m\u001b[0m\n\u001b[0m\u001b[1;32m   1757\u001b[0m                 \u001b[0;31m# We don't need to worry about locking here, because we've\u001b[0m\u001b[0;34m\u001b[0m\u001b[0;34m\u001b[0m\u001b[0;34m\u001b[0m\u001b[0m\n\u001b[1;32m   1758\u001b[0m                 \u001b[0;31m# either called loop_forever() when in single threaded mode, or\u001b[0m\u001b[0;34m\u001b[0m\u001b[0;34m\u001b[0m\u001b[0;34m\u001b[0m\u001b[0m\n",
      "\u001b[0;32m~/.pyenv/versions/3.8.6/lib/python3.8/site-packages/paho/mqtt/client.py\u001b[0m in \u001b[0;36m_loop\u001b[0;34m(self, timeout)\u001b[0m\n\u001b[1;32m   1148\u001b[0m \u001b[0;34m\u001b[0m\u001b[0m\n\u001b[1;32m   1149\u001b[0m         \u001b[0;32mtry\u001b[0m\u001b[0;34m:\u001b[0m\u001b[0;34m\u001b[0m\u001b[0;34m\u001b[0m\u001b[0m\n\u001b[0;32m-> 1150\u001b[0;31m             \u001b[0msocklist\u001b[0m \u001b[0;34m=\u001b[0m \u001b[0mselect\u001b[0m\u001b[0;34m.\u001b[0m\u001b[0mselect\u001b[0m\u001b[0;34m(\u001b[0m\u001b[0mrlist\u001b[0m\u001b[0;34m,\u001b[0m \u001b[0mwlist\u001b[0m\u001b[0;34m,\u001b[0m \u001b[0;34m[\u001b[0m\u001b[0;34m]\u001b[0m\u001b[0;34m,\u001b[0m \u001b[0mtimeout\u001b[0m\u001b[0;34m)\u001b[0m\u001b[0;34m\u001b[0m\u001b[0;34m\u001b[0m\u001b[0m\n\u001b[0m\u001b[1;32m   1151\u001b[0m         \u001b[0;32mexcept\u001b[0m \u001b[0mTypeError\u001b[0m\u001b[0;34m:\u001b[0m\u001b[0;34m\u001b[0m\u001b[0;34m\u001b[0m\u001b[0m\n\u001b[1;32m   1152\u001b[0m             \u001b[0;31m# Socket isn't correct type, in likelihood connection is lost\u001b[0m\u001b[0;34m\u001b[0m\u001b[0;34m\u001b[0m\u001b[0;34m\u001b[0m\u001b[0m\n",
      "\u001b[0;31mKeyboardInterrupt\u001b[0m: "
     ]
    }
   ],
   "source": [
    "client_receiver.loop_forever()"
   ]
  },
  {
   "cell_type": "code",
   "execution_count": null,
   "id": "8136c062-32b6-4e3d-857f-aacb8639644c",
   "metadata": {},
   "outputs": [],
   "source": []
  }
 ],
 "metadata": {
  "kernelspec": {
   "display_name": "Python 3",
   "language": "python",
   "name": "python3"
  },
  "language_info": {
   "codemirror_mode": {
    "name": "ipython",
    "version": 3
   },
   "file_extension": ".py",
   "mimetype": "text/x-python",
   "name": "python",
   "nbconvert_exporter": "python",
   "pygments_lexer": "ipython3",
   "version": "3.8.6"
  }
 },
 "nbformat": 4,
 "nbformat_minor": 5
}
